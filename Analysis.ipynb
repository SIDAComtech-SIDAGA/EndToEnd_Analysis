{
 "cells": [
  {
   "cell_type": "code",
   "execution_count": 47,
   "id": "7f3d27bb-437d-4e7f-83e4-491f4d4c1eb7",
   "metadata": {},
   "outputs": [],
   "source": [
    "import pandas as pd\n",
    "import kaggle\n",
    "kaggle.api.authenticate()\n"
   ]
  },
  {
   "cell_type": "code",
   "execution_count": 48,
   "id": "a963a67b-f82b-4dcd-b11c-ca15694b9f34",
   "metadata": {},
   "outputs": [
    {
     "name": "stdout",
     "output_type": "stream",
     "text": [
      "Dataset URL: https://www.kaggle.com/datasets/gabrielsantello/wholesale-and-retail-orders-dataset\n"
     ]
    }
   ],
   "source": [
    "kaggle.api.dataset_download_files('gabrielsantello/wholesale-and-retail-orders-dataset', path='.', unzip=True)\n"
   ]
  },
  {
   "cell_type": "code",
   "execution_count": 49,
   "id": "940c3e8c-fe8d-46d6-93f2-3f6c9560afe6",
   "metadata": {},
   "outputs": [],
   "source": [
    "# import zipfile\n",
    "# zip_ref = zipfile.ZipFile('freelance.zip')\n",
    "# zip_ref.extractall()\n",
    "# zip_ref.close()"
   ]
  },
  {
   "cell_type": "code",
   "execution_count": 50,
   "id": "042d50ef-5d7e-4d10-8f6e-00e4afa45b51",
   "metadata": {},
   "outputs": [
    {
     "data": {
      "text/html": [
       "<div>\n",
       "<style scoped>\n",
       "    .dataframe tbody tr th:only-of-type {\n",
       "        vertical-align: middle;\n",
       "    }\n",
       "\n",
       "    .dataframe tbody tr th {\n",
       "        vertical-align: top;\n",
       "    }\n",
       "\n",
       "    .dataframe thead th {\n",
       "        text-align: right;\n",
       "    }\n",
       "</style>\n",
       "<table border=\"1\" class=\"dataframe\">\n",
       "  <thead>\n",
       "    <tr style=\"text-align: right;\">\n",
       "      <th></th>\n",
       "      <th>Customer ID</th>\n",
       "      <th>Customer Status</th>\n",
       "      <th>Date Order was placed</th>\n",
       "      <th>Delivery Date</th>\n",
       "      <th>Order ID</th>\n",
       "      <th>Product ID</th>\n",
       "      <th>Quantity Ordered</th>\n",
       "      <th>Total Retail Price for This Order</th>\n",
       "      <th>Cost Price Per Unit</th>\n",
       "    </tr>\n",
       "  </thead>\n",
       "  <tbody>\n",
       "    <tr>\n",
       "      <th>0</th>\n",
       "      <td>579</td>\n",
       "      <td>Silver</td>\n",
       "      <td>01-Jan-17</td>\n",
       "      <td>07-Jan-17</td>\n",
       "      <td>123002578</td>\n",
       "      <td>220101400106</td>\n",
       "      <td>2</td>\n",
       "      <td>92.6</td>\n",
       "      <td>20.7</td>\n",
       "    </tr>\n",
       "  </tbody>\n",
       "</table>\n",
       "</div>"
      ],
      "text/plain": [
       "   Customer ID Customer Status Date Order was placed Delivery Date   Order ID  \\\n",
       "0          579          Silver             01-Jan-17     07-Jan-17  123002578   \n",
       "\n",
       "     Product ID  Quantity Ordered  Total Retail Price for This Order  \\\n",
       "0  220101400106                 2                               92.6   \n",
       "\n",
       "   Cost Price Per Unit  \n",
       "0                 20.7  "
      ]
     },
     "execution_count": 50,
     "metadata": {},
     "output_type": "execute_result"
    }
   ],
   "source": [
    "df = pd.read_csv('orders.csv', na_values=['Not Available', 'unknown'] ) \n",
    "df.head(1)"
   ]
  },
  {
   "cell_type": "code",
   "execution_count": 51,
   "id": "48b7c245-3477-4bba-8e6a-541e74a7e767",
   "metadata": {},
   "outputs": [
    {
     "data": {
      "text/plain": [
       "array(['Silver', 'SILVER', 'Gold', 'GOLD', 'PLATINUM', 'Platinum'],\n",
       "      dtype=object)"
      ]
     },
     "execution_count": 51,
     "metadata": {},
     "output_type": "execute_result"
    }
   ],
   "source": [
    "df['Customer Status'].unique()"
   ]
  },
  {
   "cell_type": "code",
   "execution_count": 52,
   "id": "5edb6933-1524-403a-bd22-555711430762",
   "metadata": {},
   "outputs": [
    {
     "data": {
      "text/plain": [
       "array([ 2,  1,  3,  8,  4,  6,  5,  7,  9, 10], dtype=int64)"
      ]
     },
     "execution_count": 52,
     "metadata": {},
     "output_type": "execute_result"
    }
   ],
   "source": [
    "df['Quantity Ordered'].unique()"
   ]
  },
  {
   "cell_type": "code",
   "execution_count": 53,
   "id": "da64dbf3-e9cd-4467-868a-07980a2eebb6",
   "metadata": {},
   "outputs": [],
   "source": [
    "#Renaming Columns\n",
    "df = df.rename(columns={'Customer ID':'ID', 'Customer Status':'status','Order ID':'order_id','Quantity Ordered':'quantity','Total Retail Price for This Order':'price','Cost Price Per Unit':'price per unit'})"
   ]
  },
  {
   "cell_type": "code",
   "execution_count": 54,
   "id": "10beb96a-21e6-4183-95c2-780cbf8c74d3",
   "metadata": {},
   "outputs": [
    {
     "data": {
      "text/html": [
       "<div>\n",
       "<style scoped>\n",
       "    .dataframe tbody tr th:only-of-type {\n",
       "        vertical-align: middle;\n",
       "    }\n",
       "\n",
       "    .dataframe tbody tr th {\n",
       "        vertical-align: top;\n",
       "    }\n",
       "\n",
       "    .dataframe thead th {\n",
       "        text-align: right;\n",
       "    }\n",
       "</style>\n",
       "<table border=\"1\" class=\"dataframe\">\n",
       "  <thead>\n",
       "    <tr style=\"text-align: right;\">\n",
       "      <th></th>\n",
       "      <th>ID</th>\n",
       "      <th>status</th>\n",
       "      <th>Date Order was placed</th>\n",
       "      <th>Delivery Date</th>\n",
       "      <th>order_id</th>\n",
       "      <th>Product ID</th>\n",
       "      <th>quantity</th>\n",
       "      <th>price</th>\n",
       "      <th>price per unit</th>\n",
       "    </tr>\n",
       "  </thead>\n",
       "  <tbody>\n",
       "    <tr>\n",
       "      <th>0</th>\n",
       "      <td>579</td>\n",
       "      <td>Silver</td>\n",
       "      <td>01-Jan-17</td>\n",
       "      <td>07-Jan-17</td>\n",
       "      <td>123002578</td>\n",
       "      <td>220101400106</td>\n",
       "      <td>2</td>\n",
       "      <td>92.6</td>\n",
       "      <td>20.7</td>\n",
       "    </tr>\n",
       "  </tbody>\n",
       "</table>\n",
       "</div>"
      ],
      "text/plain": [
       "    ID  status Date Order was placed Delivery Date   order_id    Product ID  \\\n",
       "0  579  Silver             01-Jan-17     07-Jan-17  123002578  220101400106   \n",
       "\n",
       "   quantity  price  price per unit  \n",
       "0         2   92.6            20.7  "
      ]
     },
     "execution_count": 54,
     "metadata": {},
     "output_type": "execute_result"
    }
   ],
   "source": [
    "df.head(1)"
   ]
  },
  {
   "cell_type": "code",
   "execution_count": 55,
   "id": "16a0e1aa-6305-4a7f-92d1-c8eac4563818",
   "metadata": {},
   "outputs": [],
   "source": [
    "df.columns = df.columns.str.lower()"
   ]
  },
  {
   "cell_type": "code",
   "execution_count": 56,
   "id": "69bd7207-4294-40c8-a59f-7404d18f48be",
   "metadata": {},
   "outputs": [
    {
     "data": {
      "text/html": [
       "<div>\n",
       "<style scoped>\n",
       "    .dataframe tbody tr th:only-of-type {\n",
       "        vertical-align: middle;\n",
       "    }\n",
       "\n",
       "    .dataframe tbody tr th {\n",
       "        vertical-align: top;\n",
       "    }\n",
       "\n",
       "    .dataframe thead th {\n",
       "        text-align: right;\n",
       "    }\n",
       "</style>\n",
       "<table border=\"1\" class=\"dataframe\">\n",
       "  <thead>\n",
       "    <tr style=\"text-align: right;\">\n",
       "      <th></th>\n",
       "      <th>id</th>\n",
       "      <th>status</th>\n",
       "      <th>date order was placed</th>\n",
       "      <th>delivery date</th>\n",
       "      <th>order_id</th>\n",
       "      <th>product id</th>\n",
       "      <th>quantity</th>\n",
       "      <th>price</th>\n",
       "      <th>price per unit</th>\n",
       "    </tr>\n",
       "  </thead>\n",
       "  <tbody>\n",
       "    <tr>\n",
       "      <th>0</th>\n",
       "      <td>579</td>\n",
       "      <td>Silver</td>\n",
       "      <td>01-Jan-17</td>\n",
       "      <td>07-Jan-17</td>\n",
       "      <td>123002578</td>\n",
       "      <td>220101400106</td>\n",
       "      <td>2</td>\n",
       "      <td>92.6</td>\n",
       "      <td>20.70</td>\n",
       "    </tr>\n",
       "    <tr>\n",
       "      <th>1</th>\n",
       "      <td>7574</td>\n",
       "      <td>SILVER</td>\n",
       "      <td>01-Jan-17</td>\n",
       "      <td>05-Jan-17</td>\n",
       "      <td>123004074</td>\n",
       "      <td>210201000009</td>\n",
       "      <td>1</td>\n",
       "      <td>21.7</td>\n",
       "      <td>9.95</td>\n",
       "    </tr>\n",
       "    <tr>\n",
       "      <th>2</th>\n",
       "      <td>28861</td>\n",
       "      <td>Gold</td>\n",
       "      <td>01-Jan-17</td>\n",
       "      <td>04-Jan-17</td>\n",
       "      <td>123000871</td>\n",
       "      <td>230100500068</td>\n",
       "      <td>1</td>\n",
       "      <td>1.7</td>\n",
       "      <td>0.80</td>\n",
       "    </tr>\n",
       "    <tr>\n",
       "      <th>3</th>\n",
       "      <td>43796</td>\n",
       "      <td>Gold</td>\n",
       "      <td>01-Jan-17</td>\n",
       "      <td>06-Jan-17</td>\n",
       "      <td>123002851</td>\n",
       "      <td>220100100633</td>\n",
       "      <td>1</td>\n",
       "      <td>47.9</td>\n",
       "      <td>24.05</td>\n",
       "    </tr>\n",
       "    <tr>\n",
       "      <th>4</th>\n",
       "      <td>54673</td>\n",
       "      <td>Gold</td>\n",
       "      <td>01-Jan-17</td>\n",
       "      <td>04-Jan-17</td>\n",
       "      <td>123003607</td>\n",
       "      <td>220200200043</td>\n",
       "      <td>1</td>\n",
       "      <td>36.9</td>\n",
       "      <td>18.30</td>\n",
       "    </tr>\n",
       "  </tbody>\n",
       "</table>\n",
       "</div>"
      ],
      "text/plain": [
       "      id  status date order was placed delivery date   order_id    product id  \\\n",
       "0    579  Silver             01-Jan-17     07-Jan-17  123002578  220101400106   \n",
       "1   7574  SILVER             01-Jan-17     05-Jan-17  123004074  210201000009   \n",
       "2  28861    Gold             01-Jan-17     04-Jan-17  123000871  230100500068   \n",
       "3  43796    Gold             01-Jan-17     06-Jan-17  123002851  220100100633   \n",
       "4  54673    Gold             01-Jan-17     04-Jan-17  123003607  220200200043   \n",
       "\n",
       "   quantity  price  price per unit  \n",
       "0         2   92.6           20.70  \n",
       "1         1   21.7            9.95  \n",
       "2         1    1.7            0.80  \n",
       "3         1   47.9           24.05  \n",
       "4         1   36.9           18.30  "
      ]
     },
     "execution_count": 56,
     "metadata": {},
     "output_type": "execute_result"
    }
   ],
   "source": [
    "df.head()"
   ]
  },
  {
   "cell_type": "code",
   "execution_count": 57,
   "id": "2f774427-6074-4434-b4ed-b83ceababa03",
   "metadata": {},
   "outputs": [],
   "source": [
    "df.columns = df.columns.str.replace(' ','_')"
   ]
  },
  {
   "cell_type": "code",
   "execution_count": 58,
   "id": "446b87d3-f29b-42aa-a129-0c5c4d0d1f54",
   "metadata": {},
   "outputs": [
    {
     "data": {
      "text/html": [
       "<div>\n",
       "<style scoped>\n",
       "    .dataframe tbody tr th:only-of-type {\n",
       "        vertical-align: middle;\n",
       "    }\n",
       "\n",
       "    .dataframe tbody tr th {\n",
       "        vertical-align: top;\n",
       "    }\n",
       "\n",
       "    .dataframe thead th {\n",
       "        text-align: right;\n",
       "    }\n",
       "</style>\n",
       "<table border=\"1\" class=\"dataframe\">\n",
       "  <thead>\n",
       "    <tr style=\"text-align: right;\">\n",
       "      <th></th>\n",
       "      <th>id</th>\n",
       "      <th>status</th>\n",
       "      <th>date_order_was_placed</th>\n",
       "      <th>delivery_date</th>\n",
       "      <th>order_id</th>\n",
       "      <th>product_id</th>\n",
       "      <th>quantity</th>\n",
       "      <th>price</th>\n",
       "      <th>price_per_unit</th>\n",
       "    </tr>\n",
       "  </thead>\n",
       "  <tbody>\n",
       "    <tr>\n",
       "      <th>0</th>\n",
       "      <td>579</td>\n",
       "      <td>Silver</td>\n",
       "      <td>01-Jan-17</td>\n",
       "      <td>07-Jan-17</td>\n",
       "      <td>123002578</td>\n",
       "      <td>220101400106</td>\n",
       "      <td>2</td>\n",
       "      <td>92.6</td>\n",
       "      <td>20.70</td>\n",
       "    </tr>\n",
       "    <tr>\n",
       "      <th>1</th>\n",
       "      <td>7574</td>\n",
       "      <td>SILVER</td>\n",
       "      <td>01-Jan-17</td>\n",
       "      <td>05-Jan-17</td>\n",
       "      <td>123004074</td>\n",
       "      <td>210201000009</td>\n",
       "      <td>1</td>\n",
       "      <td>21.7</td>\n",
       "      <td>9.95</td>\n",
       "    </tr>\n",
       "    <tr>\n",
       "      <th>2</th>\n",
       "      <td>28861</td>\n",
       "      <td>Gold</td>\n",
       "      <td>01-Jan-17</td>\n",
       "      <td>04-Jan-17</td>\n",
       "      <td>123000871</td>\n",
       "      <td>230100500068</td>\n",
       "      <td>1</td>\n",
       "      <td>1.7</td>\n",
       "      <td>0.80</td>\n",
       "    </tr>\n",
       "    <tr>\n",
       "      <th>3</th>\n",
       "      <td>43796</td>\n",
       "      <td>Gold</td>\n",
       "      <td>01-Jan-17</td>\n",
       "      <td>06-Jan-17</td>\n",
       "      <td>123002851</td>\n",
       "      <td>220100100633</td>\n",
       "      <td>1</td>\n",
       "      <td>47.9</td>\n",
       "      <td>24.05</td>\n",
       "    </tr>\n",
       "    <tr>\n",
       "      <th>4</th>\n",
       "      <td>54673</td>\n",
       "      <td>Gold</td>\n",
       "      <td>01-Jan-17</td>\n",
       "      <td>04-Jan-17</td>\n",
       "      <td>123003607</td>\n",
       "      <td>220200200043</td>\n",
       "      <td>1</td>\n",
       "      <td>36.9</td>\n",
       "      <td>18.30</td>\n",
       "    </tr>\n",
       "  </tbody>\n",
       "</table>\n",
       "</div>"
      ],
      "text/plain": [
       "      id  status date_order_was_placed delivery_date   order_id    product_id  \\\n",
       "0    579  Silver             01-Jan-17     07-Jan-17  123002578  220101400106   \n",
       "1   7574  SILVER             01-Jan-17     05-Jan-17  123004074  210201000009   \n",
       "2  28861    Gold             01-Jan-17     04-Jan-17  123000871  230100500068   \n",
       "3  43796    Gold             01-Jan-17     06-Jan-17  123002851  220100100633   \n",
       "4  54673    Gold             01-Jan-17     04-Jan-17  123003607  220200200043   \n",
       "\n",
       "   quantity  price  price_per_unit  \n",
       "0         2   92.6           20.70  \n",
       "1         1   21.7            9.95  \n",
       "2         1    1.7            0.80  \n",
       "3         1   47.9           24.05  \n",
       "4         1   36.9           18.30  "
      ]
     },
     "execution_count": 58,
     "metadata": {},
     "output_type": "execute_result"
    }
   ],
   "source": [
    "df.head()"
   ]
  },
  {
   "cell_type": "code",
   "execution_count": null,
   "id": "7aa4c2a1-ae51-4dea-b40d-9bf7225c9901",
   "metadata": {},
   "outputs": [],
   "source": []
  }
 ],
 "metadata": {
  "kernelspec": {
   "display_name": "Python 3 (ipykernel)",
   "language": "python",
   "name": "python3"
  },
  "language_info": {
   "codemirror_mode": {
    "name": "ipython",
    "version": 3
   },
   "file_extension": ".py",
   "mimetype": "text/x-python",
   "name": "python",
   "nbconvert_exporter": "python",
   "pygments_lexer": "ipython3",
   "version": "3.12.2"
  }
 },
 "nbformat": 4,
 "nbformat_minor": 5
}
